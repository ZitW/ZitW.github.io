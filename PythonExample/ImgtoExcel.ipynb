{
  "nbformat": 4,
  "nbformat_minor": 0,
  "metadata": {
    "colab": {
      "provenance": []
    },
    "kernelspec": {
      "name": "python3",
      "display_name": "Python 3"
    },
    "language_info": {
      "name": "python"
    }
  },
  "cells": [
    {
      "cell_type": "markdown",
      "source": [
        "Add imgs to Excels in bulk and generate Excel reports"
      ],
      "metadata": {
        "id": "JE_FDohIssFq"
      }
    },
    {
      "cell_type": "code",
      "execution_count": 1,
      "metadata": {
        "id": "uIXP3nSxsq3N"
      },
      "outputs": [],
      "source": [
        "import shutil\n",
        "import openpyxl\n",
        "from openpyxl import load_workbook\n",
        "from openpyxl.drawing.image import Image\n",
        "from openpyxl.drawing.xdr import XDRPoint2D, XDRPositiveSize2D\n",
        "from openpyxl.drawing.spreadsheet_drawing import AbsoluteAnchor\n",
        "from openpyxl.worksheet.datavalidation import DataValidation\n",
        "from openpyxl.drawing.spreadsheet_drawing import OneCellAnchor, AnchorMarker\n",
        "from openpyxl.utils.units import pixels_to_EMU, cm_to_EMU\n",
        "import os\n",
        "import pandas as pd\n",
        "import glob"
      ]
    },
    {
      "cell_type": "markdown",
      "source": [
        "1. Copy excel with header data to a new location, use shutil.copy()"
      ],
      "metadata": {
        "id": "Dpd8CX7ruup6"
      }
    },
    {
      "cell_type": "code",
      "source": [
        "template_path = r\"C:\\Users\\Documents\\Template.xlsx\"\n",
        "target_path = r\"C:\\Users\\Documents\\Baseline.xlsx\""
      ],
      "metadata": {
        "id": "XqaGdiYOuA6A"
      },
      "execution_count": null,
      "outputs": []
    },
    {
      "cell_type": "code",
      "source": [
        "shutil.copy(template_path, target_path)"
      ],
      "metadata": {
        "id": "JrYaqJ7Ruk7A"
      },
      "execution_count": null,
      "outputs": []
    },
    {
      "cell_type": "markdown",
      "source": [
        "2. Find the source image in folder"
      ],
      "metadata": {
        "id": "HGQz9ZX7vimH"
      }
    },
    {
      "cell_type": "code",
      "source": [
        "# Define source\n",
        "source_path = r\"C:\\Users\\Documents\\SitesTracker.xlsx\"\n",
        "\n",
        "# Extract specific headers in SitesTracker using pandas\n",
        "pdSite_Header = pd.read_excel(source_path, sheet_name='Full List', usecols=[2,5])"
      ],
      "metadata": {
        "id": "nKPRAIiLvoWy"
      },
      "execution_count": null,
      "outputs": []
    },
    {
      "cell_type": "code",
      "source": [
        "# Read all JPG files\n",
        "jpg_path = r\"C:\\Users\\Documents\\PrioritySites\"\n",
        "\n",
        "jpg_filelist = glob.glob(jpg_path + \"/*.jpg\")"
      ],
      "metadata": {
        "id": "iMuf_tpyw0hH"
      },
      "execution_count": null,
      "outputs": []
    },
    {
      "cell_type": "markdown",
      "source": [
        "3. Load in excel using openpyxl.load_workbook()\n",
        "\n"
      ],
      "metadata": {
        "id": "xYv6ooLgu8ig"
      }
    },
    {
      "cell_type": "code",
      "source": [
        "wb = load_workbook(filename = target_path)\n",
        "# Select worksheet we want to change and add images to\n",
        "ws = wb['Baseline']\n",
        "ws1 = wb.active"
      ],
      "metadata": {
        "id": "JJNHvj50xTlZ"
      },
      "execution_count": null,
      "outputs": []
    },
    {
      "cell_type": "markdown",
      "source": [
        "4. For each image, load the image as a variable and then add to the designated cell"
      ],
      "metadata": {
        "id": "JeEj5DevvKaR"
      }
    },
    {
      "cell_type": "code",
      "source": [
        "site = 'SIT0083SO'\n",
        "p2e = pixels_to_EMU\n",
        "c2e = cm_to_EMU\n",
        "cellh = lambda x: c2e((x *18)/99)\n",
        "cellw = lambda x: c2e((x * (11.08-1.71))/10)\n",
        "\n",
        "for file in jpg_filelist:\n",
        "  fileName = os.path.basename(jpg_path + file)\n",
        "  if fileName == 'Aerial SIT0083SO.jpg' and site in pdSite_Header['Site Reference'].values:\n",
        "    ws['G5'].value = site\n",
        "    aerial_img = Image(file)\n",
        "    h, w = 360, 450\n",
        "    column = 5\n",
        "    coloffset = cellw(0.5)\n",
        "    row = 7\n",
        "    rowoffset = cellh(0)\n",
        "    size = XDRPositiveSize2D(p2e(w),p2e(h))\n",
        "    marker = AnchorMarker(col=column, colOff=coloffset, row=row, rowOff=rowoffset)\n",
        "    aerial_img.anchor = OneCellAnchor(_from=marker, ext=size)\n",
        "    ws.add_image(aerial_img)\n",
        "  else:\n",
        "    ws['D11'] = 'No Plan'\n",
        "\n",
        "# Save the workbook\n",
        "wb.save(target_path)\n",
        "wb.close()"
      ],
      "metadata": {
        "id": "k30l7T02xxAW"
      },
      "execution_count": null,
      "outputs": []
    }
  ]
}